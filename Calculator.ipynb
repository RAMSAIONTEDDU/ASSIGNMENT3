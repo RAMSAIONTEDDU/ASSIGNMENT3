{
 "cells": [
  {
   "cell_type": "code",
   "execution_count": 9,
   "id": "b767b8ba",
   "metadata": {},
   "outputs": [
    {
     "name": "stdout",
     "output_type": "stream",
     "text": [
      "10\n",
      "94\n",
      "104\n",
      "84\n",
      "940\n",
      "9.4\n"
     ]
    }
   ],
   "source": [
    "class Calculator:\n",
    "    def __init__(self,num1,num2):\n",
    "        self.num1=num1\n",
    "        self.num2=num2\n",
    "    def sum(self):\n",
    "        return self.num2+self.num1\n",
    "    def substract(self):\n",
    "        return self.num2-self.num1\n",
    "    def multiply(self):\n",
    "        return self.num2*self.num1\n",
    "    def division(self):\n",
    "        return self.num2/self.num1\n",
    "num1=int(input())\n",
    "num2=int(input())\n",
    "c1=Calculator(num1,num2)\n",
    "print(c1.sum())\n",
    "print(c1.substract())\n",
    "print(c1.multiply())\n",
    "print(c1.division())\n",
    "\n",
    "\n",
    "        \n",
    "    "
   ]
  },
  {
   "cell_type": "code",
   "execution_count": null,
   "id": "181252cc",
   "metadata": {},
   "outputs": [],
   "source": []
  },
  {
   "cell_type": "code",
   "execution_count": null,
   "id": "fc2158ac",
   "metadata": {},
   "outputs": [],
   "source": []
  }
 ],
 "metadata": {
  "kernelspec": {
   "display_name": "Python 3 (ipykernel)",
   "language": "python",
   "name": "python3"
  },
  "language_info": {
   "codemirror_mode": {
    "name": "ipython",
    "version": 3
   },
   "file_extension": ".py",
   "mimetype": "text/x-python",
   "name": "python",
   "nbconvert_exporter": "python",
   "pygments_lexer": "ipython3",
   "version": "3.10.2"
  }
 },
 "nbformat": 4,
 "nbformat_minor": 5
}
