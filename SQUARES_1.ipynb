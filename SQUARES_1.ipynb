{
 "cells": [
  {
   "cell_type": "code",
   "execution_count": 1,
   "id": "31887599",
   "metadata": {},
   "outputs": [
    {
     "name": "stdout",
     "output_type": "stream",
     "text": [
      "Enter number of elements in a List: 4\n",
      "enter ele: 4\n",
      "enter ele: 5\n",
      "enter ele: 2\n",
      "enter ele: 9\n",
      "Square the elements of the list:\n",
      "[16, 25, 4, 81]\n"
     ]
    }
   ],
   "source": [
    "def square_num(n):\n",
    "    return n**2\n",
    "lst = []\n",
    "n =int(input(\"Enter number of elements in a List: \"))\n",
    "for i in range(0,n):\n",
    "    ele = int(input(\"enter ele: \"))\n",
    "    lst.append(ele)\n",
    "r = map(square_num,lst)\n",
    "print(\"Square the elements of the list:\")\n",
    "print(list(r))"
   ]
  },
  {
   "cell_type": "code",
   "execution_count": null,
   "id": "8cbb98f5",
   "metadata": {},
   "outputs": [],
   "source": []
  }
 ],
 "metadata": {
  "kernelspec": {
   "display_name": "Python 3 (ipykernel)",
   "language": "python",
   "name": "python3"
  },
  "language_info": {
   "codemirror_mode": {
    "name": "ipython",
    "version": 3
   },
   "file_extension": ".py",
   "mimetype": "text/x-python",
   "name": "python",
   "nbconvert_exporter": "python",
   "pygments_lexer": "ipython3",
   "version": "3.10.2"
  }
 },
 "nbformat": 4,
 "nbformat_minor": 5
}
