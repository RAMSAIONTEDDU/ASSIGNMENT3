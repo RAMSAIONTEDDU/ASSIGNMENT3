{
 "cells": [
  {
   "cell_type": "code",
   "execution_count": 5,
   "id": "462f7d12",
   "metadata": {},
   "outputs": [
    {
     "name": "stdout",
     "output_type": "stream",
     "text": [
      "Name = Madhu\n",
      "phy = 80\n",
      "chem = 90\n",
      "bio =  40\n",
      "210\n",
      "70.0\n"
     ]
    }
   ],
   "source": [
    "class Student:\n",
    "    def __init__(self,name,phy,chem,bio):\n",
    "        self.name=name\n",
    "        self.phy=phy\n",
    "        self.chem=chem\n",
    "        self.bio=bio\n",
    "        self.totalMarks=300\n",
    "    def totalObtained(self):\n",
    "        self.total=self.phy+self.chem+self.bio\n",
    "        return self.total\n",
    "    def percentage(self):\n",
    "        return ((self.total/self.totalMarks)*100)\n",
    "    \n",
    "\n",
    "\n",
    "\n",
    "name=input(\"Name = \")\n",
    "phy=int(input(\"phy = \"))\n",
    "chem=int(input(\"chem = \"))\n",
    "bio=int(input(\"bio =  \"))\n",
    "student1=Student(name,phy,chem,bio)\n",
    "print(student1.totalObtained())\n",
    "print(student1.percentage())"
   ]
  },
  {
   "cell_type": "code",
   "execution_count": null,
   "id": "4eed9b73",
   "metadata": {},
   "outputs": [],
   "source": []
  }
 ],
 "metadata": {
  "kernelspec": {
   "display_name": "Python 3 (ipykernel)",
   "language": "python",
   "name": "python3"
  },
  "language_info": {
   "codemirror_mode": {
    "name": "ipython",
    "version": 3
   },
   "file_extension": ".py",
   "mimetype": "text/x-python",
   "name": "python",
   "nbconvert_exporter": "python",
   "pygments_lexer": "ipython3",
   "version": "3.10.2"
  }
 },
 "nbformat": 4,
 "nbformat_minor": 5
}
